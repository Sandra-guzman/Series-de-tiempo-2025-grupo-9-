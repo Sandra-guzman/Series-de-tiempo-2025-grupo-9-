{
  "nbformat": 4,
  "nbformat_minor": 0,
  "metadata": {
    "colab": {
      "provenance": []
    },
    "kernelspec": {
      "name": "python3",
      "display_name": "Python 3"
    },
    "language_info": {
      "name": "python"
    }
  },
  "cells": [
    {
      "cell_type": "markdown",
      "source": [
        "PONTIFICA UNIVERSIDAD JAVERIANA, CALI\n",
        "MAESTRÍA EN CIENCIA DE DATOS\n",
        "SERIE DE TEIMPOS\n",
        "UNIDAD 3: PREPROCESAMIENTO Y VISUALIZACIÓN\n",
        "Estudiantes: Sandra Guzmán, Juan Sebastián y Henry Hurtado."
      ],
      "metadata": {
        "id": "kn6hdmHCc6XP"
      }
    },
    {
      "cell_type": "markdown",
      "source": [
        "OBJETIVO DE LA ACTIVIDAD:\n",
        "Usar gráficos y funciones de preprocesamiento de bases de datos para describir el procesamiento subyacente en la relación entre los datos en un período de tiempo."
      ],
      "metadata": {
        "id": "afNivnTydjJM"
      }
    },
    {
      "cell_type": "markdown",
      "source": [
        "Punto 1 - Se realiza una gráfica de serie de tiempos para la producción de café en Colombia (1990 - 2024), sin procesamiento alguno."
      ],
      "metadata": {
        "id": "SvvETYkWeCHu"
      }
    },
    {
      "cell_type": "code",
      "metadata": {
        "colab": {
          "base_uri": "https://localhost:8080/"
        },
        "id": "d89951ef",
        "outputId": "6289d9ca-a51b-4ef2-c56d-a9d275e78451"
      },
      "source": [
        "%pip install -U kaleido"
      ],
      "execution_count": 1,
      "outputs": [
        {
          "output_type": "stream",
          "name": "stdout",
          "text": [
            "Collecting kaleido\n",
            "  Downloading kaleido-1.1.0-py3-none-any.whl.metadata (5.6 kB)\n",
            "Collecting choreographer>=1.0.10 (from kaleido)\n",
            "  Downloading choreographer-1.2.0-py3-none-any.whl.metadata (6.8 kB)\n",
            "Collecting logistro>=1.0.8 (from kaleido)\n",
            "  Downloading logistro-2.0.0-py3-none-any.whl.metadata (3.9 kB)\n",
            "Requirement already satisfied: orjson>=3.10.15 in /usr/local/lib/python3.12/dist-packages (from kaleido) (3.11.3)\n",
            "Requirement already satisfied: packaging in /usr/local/lib/python3.12/dist-packages (from kaleido) (25.0)\n",
            "Collecting pytest-timeout>=2.4.0 (from kaleido)\n",
            "  Downloading pytest_timeout-2.4.0-py3-none-any.whl.metadata (20 kB)\n",
            "Requirement already satisfied: simplejson>=3.19.3 in /usr/local/lib/python3.12/dist-packages (from choreographer>=1.0.10->kaleido) (3.20.2)\n",
            "Requirement already satisfied: pytest>=7.0.0 in /usr/local/lib/python3.12/dist-packages (from pytest-timeout>=2.4.0->kaleido) (8.4.2)\n",
            "Requirement already satisfied: iniconfig>=1 in /usr/local/lib/python3.12/dist-packages (from pytest>=7.0.0->pytest-timeout>=2.4.0->kaleido) (2.3.0)\n",
            "Requirement already satisfied: pluggy<2,>=1.5 in /usr/local/lib/python3.12/dist-packages (from pytest>=7.0.0->pytest-timeout>=2.4.0->kaleido) (1.6.0)\n",
            "Requirement already satisfied: pygments>=2.7.2 in /usr/local/lib/python3.12/dist-packages (from pytest>=7.0.0->pytest-timeout>=2.4.0->kaleido) (2.19.2)\n",
            "Downloading kaleido-1.1.0-py3-none-any.whl (66 kB)\n",
            "\u001b[2K   \u001b[90m━━━━━━━━━━━━━━━━━━━━━━━━━━━━━━━━━━━━━━━━\u001b[0m \u001b[32m66.3/66.3 kB\u001b[0m \u001b[31m4.8 MB/s\u001b[0m eta \u001b[36m0:00:00\u001b[0m\n",
            "\u001b[?25hDownloading choreographer-1.2.0-py3-none-any.whl (56 kB)\n",
            "\u001b[2K   \u001b[90m━━━━━━━━━━━━━━━━━━━━━━━━━━━━━━━━━━━━━━━━\u001b[0m \u001b[32m56.4/56.4 kB\u001b[0m \u001b[31m4.9 MB/s\u001b[0m eta \u001b[36m0:00:00\u001b[0m\n",
            "\u001b[?25hDownloading logistro-2.0.0-py3-none-any.whl (8.5 kB)\n",
            "Downloading pytest_timeout-2.4.0-py3-none-any.whl (14 kB)\n",
            "Installing collected packages: logistro, pytest-timeout, choreographer, kaleido\n",
            "Successfully installed choreographer-1.2.0 kaleido-1.1.0 logistro-2.0.0 pytest-timeout-2.4.0\n"
          ]
        }
      ]
    },
    {
      "cell_type": "code",
      "source": [
        "import pandas as pd\n",
        "import plotly.express as px\n",
        "\n",
        "# Cargar el archivo CSV\n",
        "df = pd.read_csv(\"FAOSTAT_Produccion_Agricola_Extendida.csv\")\n",
        "\n",
        "# Filtrar datos para Colombia y el producto Café\n",
        "df_colombia_coffee = df[(df['Pais'] == 'Colombia') & (df['Producto'] == 'Coffee')]\n",
        "\n",
        "# Ordenar por año\n",
        "df_colombia_coffee = df_colombia_coffee.sort_values(by='Año')\n",
        "\n",
        "# Crear gráfico de serie de tiempo\n",
        "fig = px.line(df_colombia_coffee, x='Año', y='Produccion',\n",
        "              title='Producción de Café en Colombia (1990-2024)',\n",
        "              labels={'Produccion': 'Producción (toneladas)', 'Año': 'Año'})\n",
        "\n",
        "# Mostrar el gráfico\n",
        "fig.show()\n",
        "\n",
        "# Si deseas guardar el gráfico:\n",
        "fig.write_image(\"produccion_cafe_colombia.png\")\n",
        "fig.write_json(\"produccion_cafe_colombia.json\")"
      ],
      "metadata": {
        "colab": {
          "base_uri": "https://localhost:8080/",
          "height": 356
        },
        "id": "XT93OHWCeNPC",
        "outputId": "282acf33-fb5e-4b01-fbd5-d44754ecd2b2"
      },
      "execution_count": 2,
      "outputs": [
        {
          "output_type": "error",
          "ename": "FileNotFoundError",
          "evalue": "[Errno 2] No such file or directory: 'FAOSTAT_Produccion_Agricola_Extendida.csv'",
          "traceback": [
            "\u001b[0;31m---------------------------------------------------------------------------\u001b[0m",
            "\u001b[0;31mFileNotFoundError\u001b[0m                         Traceback (most recent call last)",
            "\u001b[0;32m/tmp/ipython-input-1953887922.py\u001b[0m in \u001b[0;36m<cell line: 0>\u001b[0;34m()\u001b[0m\n\u001b[1;32m      3\u001b[0m \u001b[0;34m\u001b[0m\u001b[0m\n\u001b[1;32m      4\u001b[0m \u001b[0;31m# Cargar el archivo CSV\u001b[0m\u001b[0;34m\u001b[0m\u001b[0;34m\u001b[0m\u001b[0m\n\u001b[0;32m----> 5\u001b[0;31m \u001b[0mdf\u001b[0m \u001b[0;34m=\u001b[0m \u001b[0mpd\u001b[0m\u001b[0;34m.\u001b[0m\u001b[0mread_csv\u001b[0m\u001b[0;34m(\u001b[0m\u001b[0;34m\"FAOSTAT_Produccion_Agricola_Extendida.csv\"\u001b[0m\u001b[0;34m)\u001b[0m\u001b[0;34m\u001b[0m\u001b[0;34m\u001b[0m\u001b[0m\n\u001b[0m\u001b[1;32m      6\u001b[0m \u001b[0;34m\u001b[0m\u001b[0m\n\u001b[1;32m      7\u001b[0m \u001b[0;31m# Filtrar datos para Colombia y el producto Café\u001b[0m\u001b[0;34m\u001b[0m\u001b[0;34m\u001b[0m\u001b[0m\n",
            "\u001b[0;32m/usr/local/lib/python3.12/dist-packages/pandas/io/parsers/readers.py\u001b[0m in \u001b[0;36mread_csv\u001b[0;34m(filepath_or_buffer, sep, delimiter, header, names, index_col, usecols, dtype, engine, converters, true_values, false_values, skipinitialspace, skiprows, skipfooter, nrows, na_values, keep_default_na, na_filter, verbose, skip_blank_lines, parse_dates, infer_datetime_format, keep_date_col, date_parser, date_format, dayfirst, cache_dates, iterator, chunksize, compression, thousands, decimal, lineterminator, quotechar, quoting, doublequote, escapechar, comment, encoding, encoding_errors, dialect, on_bad_lines, delim_whitespace, low_memory, memory_map, float_precision, storage_options, dtype_backend)\u001b[0m\n\u001b[1;32m   1024\u001b[0m     \u001b[0mkwds\u001b[0m\u001b[0;34m.\u001b[0m\u001b[0mupdate\u001b[0m\u001b[0;34m(\u001b[0m\u001b[0mkwds_defaults\u001b[0m\u001b[0;34m)\u001b[0m\u001b[0;34m\u001b[0m\u001b[0;34m\u001b[0m\u001b[0m\n\u001b[1;32m   1025\u001b[0m \u001b[0;34m\u001b[0m\u001b[0m\n\u001b[0;32m-> 1026\u001b[0;31m     \u001b[0;32mreturn\u001b[0m \u001b[0m_read\u001b[0m\u001b[0;34m(\u001b[0m\u001b[0mfilepath_or_buffer\u001b[0m\u001b[0;34m,\u001b[0m \u001b[0mkwds\u001b[0m\u001b[0;34m)\u001b[0m\u001b[0;34m\u001b[0m\u001b[0;34m\u001b[0m\u001b[0m\n\u001b[0m\u001b[1;32m   1027\u001b[0m \u001b[0;34m\u001b[0m\u001b[0m\n\u001b[1;32m   1028\u001b[0m \u001b[0;34m\u001b[0m\u001b[0m\n",
            "\u001b[0;32m/usr/local/lib/python3.12/dist-packages/pandas/io/parsers/readers.py\u001b[0m in \u001b[0;36m_read\u001b[0;34m(filepath_or_buffer, kwds)\u001b[0m\n\u001b[1;32m    618\u001b[0m \u001b[0;34m\u001b[0m\u001b[0m\n\u001b[1;32m    619\u001b[0m     \u001b[0;31m# Create the parser.\u001b[0m\u001b[0;34m\u001b[0m\u001b[0;34m\u001b[0m\u001b[0m\n\u001b[0;32m--> 620\u001b[0;31m     \u001b[0mparser\u001b[0m \u001b[0;34m=\u001b[0m \u001b[0mTextFileReader\u001b[0m\u001b[0;34m(\u001b[0m\u001b[0mfilepath_or_buffer\u001b[0m\u001b[0;34m,\u001b[0m \u001b[0;34m**\u001b[0m\u001b[0mkwds\u001b[0m\u001b[0;34m)\u001b[0m\u001b[0;34m\u001b[0m\u001b[0;34m\u001b[0m\u001b[0m\n\u001b[0m\u001b[1;32m    621\u001b[0m \u001b[0;34m\u001b[0m\u001b[0m\n\u001b[1;32m    622\u001b[0m     \u001b[0;32mif\u001b[0m \u001b[0mchunksize\u001b[0m \u001b[0;32mor\u001b[0m \u001b[0miterator\u001b[0m\u001b[0;34m:\u001b[0m\u001b[0;34m\u001b[0m\u001b[0;34m\u001b[0m\u001b[0m\n",
            "\u001b[0;32m/usr/local/lib/python3.12/dist-packages/pandas/io/parsers/readers.py\u001b[0m in \u001b[0;36m__init__\u001b[0;34m(self, f, engine, **kwds)\u001b[0m\n\u001b[1;32m   1618\u001b[0m \u001b[0;34m\u001b[0m\u001b[0m\n\u001b[1;32m   1619\u001b[0m         \u001b[0mself\u001b[0m\u001b[0;34m.\u001b[0m\u001b[0mhandles\u001b[0m\u001b[0;34m:\u001b[0m \u001b[0mIOHandles\u001b[0m \u001b[0;34m|\u001b[0m \u001b[0;32mNone\u001b[0m \u001b[0;34m=\u001b[0m \u001b[0;32mNone\u001b[0m\u001b[0;34m\u001b[0m\u001b[0;34m\u001b[0m\u001b[0m\n\u001b[0;32m-> 1620\u001b[0;31m         \u001b[0mself\u001b[0m\u001b[0;34m.\u001b[0m\u001b[0m_engine\u001b[0m \u001b[0;34m=\u001b[0m \u001b[0mself\u001b[0m\u001b[0;34m.\u001b[0m\u001b[0m_make_engine\u001b[0m\u001b[0;34m(\u001b[0m\u001b[0mf\u001b[0m\u001b[0;34m,\u001b[0m \u001b[0mself\u001b[0m\u001b[0;34m.\u001b[0m\u001b[0mengine\u001b[0m\u001b[0;34m)\u001b[0m\u001b[0;34m\u001b[0m\u001b[0;34m\u001b[0m\u001b[0m\n\u001b[0m\u001b[1;32m   1621\u001b[0m \u001b[0;34m\u001b[0m\u001b[0m\n\u001b[1;32m   1622\u001b[0m     \u001b[0;32mdef\u001b[0m \u001b[0mclose\u001b[0m\u001b[0;34m(\u001b[0m\u001b[0mself\u001b[0m\u001b[0;34m)\u001b[0m \u001b[0;34m->\u001b[0m \u001b[0;32mNone\u001b[0m\u001b[0;34m:\u001b[0m\u001b[0;34m\u001b[0m\u001b[0;34m\u001b[0m\u001b[0m\n",
            "\u001b[0;32m/usr/local/lib/python3.12/dist-packages/pandas/io/parsers/readers.py\u001b[0m in \u001b[0;36m_make_engine\u001b[0;34m(self, f, engine)\u001b[0m\n\u001b[1;32m   1878\u001b[0m                 \u001b[0;32mif\u001b[0m \u001b[0;34m\"b\"\u001b[0m \u001b[0;32mnot\u001b[0m \u001b[0;32min\u001b[0m \u001b[0mmode\u001b[0m\u001b[0;34m:\u001b[0m\u001b[0;34m\u001b[0m\u001b[0;34m\u001b[0m\u001b[0m\n\u001b[1;32m   1879\u001b[0m                     \u001b[0mmode\u001b[0m \u001b[0;34m+=\u001b[0m \u001b[0;34m\"b\"\u001b[0m\u001b[0;34m\u001b[0m\u001b[0;34m\u001b[0m\u001b[0m\n\u001b[0;32m-> 1880\u001b[0;31m             self.handles = get_handle(\n\u001b[0m\u001b[1;32m   1881\u001b[0m                 \u001b[0mf\u001b[0m\u001b[0;34m,\u001b[0m\u001b[0;34m\u001b[0m\u001b[0;34m\u001b[0m\u001b[0m\n\u001b[1;32m   1882\u001b[0m                 \u001b[0mmode\u001b[0m\u001b[0;34m,\u001b[0m\u001b[0;34m\u001b[0m\u001b[0;34m\u001b[0m\u001b[0m\n",
            "\u001b[0;32m/usr/local/lib/python3.12/dist-packages/pandas/io/common.py\u001b[0m in \u001b[0;36mget_handle\u001b[0;34m(path_or_buf, mode, encoding, compression, memory_map, is_text, errors, storage_options)\u001b[0m\n\u001b[1;32m    871\u001b[0m         \u001b[0;32mif\u001b[0m \u001b[0mioargs\u001b[0m\u001b[0;34m.\u001b[0m\u001b[0mencoding\u001b[0m \u001b[0;32mand\u001b[0m \u001b[0;34m\"b\"\u001b[0m \u001b[0;32mnot\u001b[0m \u001b[0;32min\u001b[0m \u001b[0mioargs\u001b[0m\u001b[0;34m.\u001b[0m\u001b[0mmode\u001b[0m\u001b[0;34m:\u001b[0m\u001b[0;34m\u001b[0m\u001b[0;34m\u001b[0m\u001b[0m\n\u001b[1;32m    872\u001b[0m             \u001b[0;31m# Encoding\u001b[0m\u001b[0;34m\u001b[0m\u001b[0;34m\u001b[0m\u001b[0m\n\u001b[0;32m--> 873\u001b[0;31m             handle = open(\n\u001b[0m\u001b[1;32m    874\u001b[0m                 \u001b[0mhandle\u001b[0m\u001b[0;34m,\u001b[0m\u001b[0;34m\u001b[0m\u001b[0;34m\u001b[0m\u001b[0m\n\u001b[1;32m    875\u001b[0m                 \u001b[0mioargs\u001b[0m\u001b[0;34m.\u001b[0m\u001b[0mmode\u001b[0m\u001b[0;34m,\u001b[0m\u001b[0;34m\u001b[0m\u001b[0;34m\u001b[0m\u001b[0m\n",
            "\u001b[0;31mFileNotFoundError\u001b[0m: [Errno 2] No such file or directory: 'FAOSTAT_Produccion_Agricola_Extendida.csv'"
          ]
        }
      ]
    },
    {
      "cell_type": "markdown",
      "source": [
        "Comentarios:\n",
        "Se opbservan fluctuacines de picos ascendentes y descendente, no se logra observar una tendencia lineal claro."
      ],
      "metadata": {
        "id": "6muimgxJf_Tf"
      }
    },
    {
      "cell_type": "markdown",
      "source": [
        "Punto 2 - Segregación de la serie para los componentes de tendencia, estacionalidad, ciclo y residuos:"
      ],
      "metadata": {
        "id": "2Uqcr0pMgb2b"
      }
    },
    {
      "cell_type": "code",
      "source": [],
      "metadata": {
        "id": "-EKTk1pbgfxA"
      },
      "execution_count": null,
      "outputs": []
    },
    {
      "cell_type": "code",
      "source": [
        "import pandas as pd\n",
        "from statsmodels.tsa.seasonal import seasonal_decompose\n",
        "import plotly.graph_objects as go\n",
        "\n",
        "# Cargar el archivo CSV\n",
        "df = pd.read_csv(\"FAOSTAT_Produccion_Agricola_Extendida.csv\")\n",
        "\n",
        "# Filtrar datos para Colombia y el producto Café\n",
        "df_colombia_coffee = df[(df['Pais'] == 'Colombia') & (df['Producto'] == 'Coffee')]\n",
        "\n",
        "# Ordenar por año\n",
        "df_colombia_coffee = df_colombia_coffee.sort_values(by='Año')\n",
        "\n",
        "# Establecer el índice de tiempo\n",
        "df_colombia_coffee.set_index('Año', inplace=True)\n",
        "\n",
        "# Aplicar descomposición aditiva\n",
        "result = seasonal_decompose(df_colombia_coffee['Produccion'], model='additive', period=1, extrapolate_trend='freq')\n",
        "\n",
        "# Crear gráfico con los componentes\n",
        "fig = go.Figure()\n",
        "\n",
        "fig.add_trace(go.Scatter(x=result.trend.index, y=result.trend, mode='lines', name='Tendencia'))\n",
        "fig.add_trace(go.Scatter(x=result.seasonal.index, y=result.seasonal, mode='lines', name='Estacionalidad'))\n",
        "fig.add_trace(go.Scatter(x=result.resid.index, y=result.resid, mode='lines', name='Residuos'))\n",
        "\n",
        "fig.update_layout(title='Descomposición de la Producción de Café en Colombia (1990-2024)',\n",
        "                  xaxis_title='Año',\n",
        "                  yaxis_title='Valor',\n",
        "                  legend_title='Componentes')\n",
        "\n",
        "# Mostrar el gráfico\n",
        "fig.show()\n",
        "\n",
        "# Si deseas guardar el gráfico:\n",
        "fig.write_image(\"descomposicion_cafe_colombia.png\")\n",
        "fig.write_json(\"descomposicion_cafe_colombia.json\")"
      ],
      "metadata": {
        "id": "Q_6CdGK4g5i3"
      },
      "execution_count": null,
      "outputs": []
    },
    {
      "cell_type": "markdown",
      "source": [
        "Comentarios:\n",
        "\n",
        "La tendencia muestra la dirección general de la serie a lo largo del tiempo, (creciente, decreciente o estable), en la gráfica no se observa una tendencia clara, hay fluctuaciones entre picos altos y bajos.\n",
        "\n",
        "La estacionalidad representa patrones que se repiten en intervalos regulares, ayuda a anticipar patrones cíclicos. En el gráfico en estudio no se logra observar un patrón de comportamiento permanente, se observan ciclos de picos altos y bajos, como si su comportamiento fuera aleatorio.\n",
        "\n",
        "Residuos, no se evidencian valores atípicos o anomalías.\n"
      ],
      "metadata": {
        "id": "Gfv0GyUYhpdH"
      }
    },
    {
      "cell_type": "markdown",
      "source": [
        "Se aplica diferenciación para lograr estacionalidad en primer orden."
      ],
      "metadata": {
        "id": "NcvJZLvhnlZQ"
      }
    },
    {
      "cell_type": "code",
      "source": [
        "import pandas as pd\n",
        "import plotly.graph_objects as go\n",
        "\n",
        "# Cargar el archivo CSV\n",
        "df = pd.read_csv(\"FAOSTAT_Produccion_Agricola_Extendida.csv\")\n",
        "\n",
        "# Filtrar datos para Colombia y el producto Café\n",
        "df_colombia_coffee = df[(df['Pais'] == 'Colombia') & (df['Producto'] == 'Coffee')]\n",
        "\n",
        "# Ordenar por año\n",
        "df_colombia_coffee = df_colombia_coffee.sort_values(by='Año')\n",
        "\n",
        "# Aplicar diferenciación no estacional (diferencia de primer orden)\n",
        "df_colombia_coffee['Produccion_Diff'] = df_colombia_coffee['Produccion'].diff()\n",
        "\n",
        "# Crear gráfico con la serie original y la diferenciada\n",
        "fig = go.Figure()\n",
        "\n",
        "fig.add_trace(go.Scatter(x=df_colombia_coffee['Año'], y=df_colombia_coffee['Produccion'],\n",
        "                         mode='lines+markers', name='Producción Original'))\n",
        "\n",
        "fig.add_trace(go.Scatter(x=df_colombia_coffee['Año'], y=df_colombia_coffee['Produccion_Diff'],\n",
        "                         mode='lines+markers', name='Diferenciación No Estacional'))\n",
        "\n",
        "fig.update_layout(title='Producción de Café en Colombia: Serie Original vs Diferenciada',\n",
        "                  xaxis_title='Año',\n",
        "                  yaxis_title='Toneladas',\n",
        "                  legend_title='Serie')\n",
        "\n",
        "# Mostrar el gráfico\n",
        "fig.show()\n",
        "\n",
        "# Si deseas guardar el gráfico:\n",
        "fig.write_image(\"produccion_cafe_colombia_diferenciada.png\")\n",
        "fig.write_json(\"produccion_cafe_colombia_diferenciada.json\")"
      ],
      "metadata": {
        "id": "u9yLpjq2n0JK"
      },
      "execution_count": null,
      "outputs": []
    },
    {
      "cell_type": "markdown",
      "source": [
        "La linea azul es la serie original y la línea roja es la serie con una primera diferenciación. No se observa tendencia, ni estacionalidad.\n"
      ],
      "metadata": {
        "id": "PsUi923coKdy"
      }
    },
    {
      "cell_type": "markdown",
      "source": [
        "Segunda difeenciación:\n"
      ],
      "metadata": {
        "id": "YXvodIChobFX"
      }
    },
    {
      "cell_type": "code",
      "source": [
        "import pandas as pd\n",
        "import plotly.graph_objects as go\n",
        "\n",
        "# Cargar el archivo CSV\n",
        "df = pd.read_csv(\"FAOSTAT_Produccion_Agricola_Extendida.csv\")\n",
        "\n",
        "# Filtrar datos para Colombia y el producto Café\n",
        "df_colombia_coffee = df[(df['Pais'] == 'Colombia') & (df['Producto'] == 'Coffee')]\n",
        "\n",
        "# Ordenar por año\n",
        "df_colombia_coffee = df_colombia_coffee.sort_values(by='Año')\n",
        "\n",
        "# Primera diferenciación (diferencia de primer orden)\n",
        "df_colombia_coffee['Diff_1'] = df_colombia_coffee['Produccion'].diff()\n",
        "\n",
        "# Segunda diferenciación (diferencia de segundo orden)\n",
        "df_colombia_coffee['Diff_2'] = df_colombia_coffee['Diff_1'].diff()\n",
        "\n",
        "# Crear gráfico con las tres series\n",
        "fig = go.Figure()\n",
        "\n",
        "fig.add_trace(go.Scatter(x=df_colombia_coffee['Año'], y=df_colombia_coffee['Produccion'],\n",
        "                         mode='lines+markers', name='Producción Original'))\n",
        "\n",
        "fig.add_trace(go.Scatter(x=df_colombia_coffee['Año'], y=df_colombia_coffee['Diff_1'],\n",
        "                         mode='lines+markers', name='1ª Diferenciación'))\n",
        "\n",
        "fig.add_trace(go.Scatter(x=df_colombia_coffee['Año'], y=df_colombia_coffee['Diff_2'],\n",
        "                         mode='lines+markers', name='2ª Diferenciación'))\n",
        "\n",
        "fig.update_layout(title='Producción de Café en Colombia: Original vs Diferenciaciones',\n",
        "                  xaxis_title='Año',\n",
        "                  yaxis_title='Toneladas',\n",
        "                  legend_title='Serie')\n",
        "\n",
        "# Mostrar el gráfico\n",
        "fig.show()\n",
        "\n",
        "# Si deseas guardar el gráfico:\n",
        "fig.write_image(\"produccion_cafe_colombia_doble_diferenciacion.png\")\n",
        "fig.write_json(\"produccion_cafe_colombia_doble_diferenciacion.json\")"
      ],
      "metadata": {
        "id": "i6sygEFxoecU"
      },
      "execution_count": null,
      "outputs": []
    },
    {
      "cell_type": "markdown",
      "source": [
        "Se aplica la prueba ADF sobre la serie difereniada.\n"
      ],
      "metadata": {
        "id": "kd_OfgmTpI-b"
      }
    },
    {
      "cell_type": "code",
      "source": [
        "import pandas as pd\n",
        "from statsmodels.tsa.stattools import adfuller\n",
        "\n",
        "# Cargar el archivo CSV\n",
        "df = pd.read_csv(\"FAOSTAT_Produccion_Agricola_Extendida.csv\")\n",
        "\n",
        "# Filtrar datos para Colombia y el producto Café\n",
        "df_colombia_coffee = df[(df['Pais'] == 'Colombia') & (df['Producto'] == 'Coffee')]\n",
        "\n",
        "# Ordenar por año\n",
        "df_colombia_coffee = df_colombia_coffee.sort_values(by='Año')\n",
        "\n",
        "# Primera diferenciación\n",
        "df_colombia_coffee['Diff_1'] = df_colombia_coffee['Produccion'].diff()\n",
        "\n",
        "# Segunda diferenciación\n",
        "df_colombia_coffee['Diff_2'] = df_colombia_coffee['Diff_1'].diff()\n",
        "\n",
        "# Eliminar valores NaN\n",
        "serie_diff2 = df_colombia_coffee['Diff_2'].dropna()\n",
        "\n",
        "# Aplicar prueba ADF\n",
        "adf_result = adfuller(serie_diff2)\n",
        "\n",
        "# Mostrar resultados\n",
        "print(\"Estadístico ADF:\", adf_result[0])\n",
        "print(\"p-valor:\", adf_result[1])\n",
        "print(\"Número de rezagos:\", adf_result[2])\n",
        "print(\"Número de observaciones:\", adf_result[3])\n",
        "print(\"Valores críticos:\")\n",
        "for key, value in adf_result[4].items():\n",
        "    print(f\"   {key}: {value}\")\n",
        "\n",
        "# Interpretación:\n",
        "# Si el p-valor < 0.05, la serie es estacionaria."
      ],
      "metadata": {
        "id": "EXj-ob44pQmn"
      },
      "execution_count": null,
      "outputs": []
    }
  ]
}