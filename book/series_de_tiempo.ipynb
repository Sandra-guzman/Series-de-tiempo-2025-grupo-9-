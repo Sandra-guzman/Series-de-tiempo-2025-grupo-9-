{
  "nbformat": 4,
  "nbformat_minor": 0,
  "metadata": {
    "colab": {
      "provenance": []
    },
    "kernelspec": {
      "name": "python3",
      "display_name": "Python 3"
    },
    "language_info": {
      "name": "python"
    }
  },
  "cells": [
    {
      "cell_type": "markdown",
      "source": [
        "PONTIFICIA UNIVERSIDAD JAVERIANA\n",
        "MAESTRIA EN CIENCIA DE DATOS SERIES DE TIEMPOS\n",
        "GRUPO: 9\n",
        "\n"
      ],
      "metadata": {
        "id": "kC6JxYTWFCM9"
      }
    },
    {
      "cell_type": "markdown",
      "source": [
        "Nombre: FAOSTAT_Produccion_Agricola_Completa.csv\n",
        "Frecuencia: Mensual (1990–2024)\n",
        "Registros:1260 y 8 variables\n",
        "Países: Argentina, Brasil, Chile, Colombia, Perú, México\n",
        "\n",
        "Variables incluidas:\n",
        "\n",
        "\n",
        "*   Producción y Comercio\tProducción,\n",
        "*   Consumo\n",
        "*   Precio_Promedio_USD\n",
        "*   Área_cosechada, Rendimiento\n",
        "\n",
        "Identificadores:\tAño, País, Producto, Unidad\tEstructura temporal y geográfica\n",
        "\n",
        "Taxonomía de las variables:\n",
        "Pais: cualitativa, nominal, texto.\n",
        "Producto: Cualitativa, nominal, texto.\n",
        "Año: Cuantitativa, discreta, entero.\n",
        "Unidad: Cualitativa, nominal, texto.\n",
        "Producción: Cuantitativa, continua, real.\n",
        "Consumo: Cuantitativa, continua, real.\n",
        "Exportaciones: Cuantitativa, continua, real.\n",
        "Precio_promedio_USD: Cuantitativa, continua, real.\n"
      ],
      "metadata": {
        "id": "CbsNnUIqFHpe"
      }
    },
    {
      "cell_type": "markdown",
      "source": [
        " **Descripción general de la fuente**\n",
        "\n",
        "1. La base de datos utilizada proviene de FAOSTAT (Food and Agriculture Organization of the United Nations), una de las fuentes internacionales más completas y confiables en materia de agricultura, alimentación y sostenibilidad.\n",
        "FAOSTAT recopila y armoniza información reportada por más de 200 países y territorios, garantizando comparabilidad metodológica y cobertura temporal de largo plazo.\n",
        "\n",
        "Para eljercicio del desarrollo de la asignatura \"series de Tiempo\"cse tomaron variables asociadas a la producción agrícola y se complementaron con indicadores de comercio (exportaciones), consumo, precios promedio, área cosechada y rendimiento agrícola.\n"
      ],
      "metadata": {
        "id": "iwKvYKmdFoFQ"
      }
    },
    {
      "cell_type": "markdown",
      "source": [
        "2. **Motivación y relevancia del tema**\n",
        "\n",
        "La agricultura constituye uno de los pilares económicos y sociales de América Latina, no solo por su contribución al PIB, sino también por su impacto en la seguridad alimentaria, el empleo rural y las exportaciones.\n",
        "Analizar la evolución temporal de variables como la producción, el consumo y el rendimiento agrícola permite comprender cómo los países han respondido a los cambios tecnológicos, climáticos y comerciales durante las últimas décadas.\n",
        "\n",
        "Asimismo, incorporar indicadores como precio promedio en USD o rendimiento (ton/ha) aporta una dimensión de eficiencia económica que resulta fundamental para orientar políticas públicas de sostenibilidad y productividad agrícola"
      ],
      "metadata": {
        "id": "fK0VpJPPFu8K"
      }
    },
    {
      "cell_type": "markdown",
      "source": [
        "3. Beneficios analíticos y valor agregado\n",
        "\n",
        "El uso de esta base permite desarrollar un análisis con alto valor predictivo y explicativo porque:\n",
        "\n",
        "Cobertura temporal extensa (1990–2024): posibilita modelar ciclos largos, estacionalidades y rupturas estructurales.\n",
        "\n",
        "Comparabilidad internacional: los datos están normalizados bajo metodologías FAO, lo que permite contrastar países latinoamericanos bajo un mismo estándar.\n",
        "\n",
        "Multivariable y multifactorial: al incluir producción, consumo, comercio, precios y área, se puede construir un modelo multivariado (VAR o ARIMAX) que capture interdependencias reales.\n",
        "\n",
        "Escalabilidad: el formato CSV mensual permite incorporar nuevos indicadores (por ejemplo, precipitación, emisiones de CO₂ o PIB agrícola) para ampliar el análisis.\n",
        "\n",
        "Aplicabilidad en políticas públicas: los resultados pueden orientar decisiones sobre productividad, competitividad y sostenibilidad agrícola."
      ],
      "metadata": {
        "id": "fM-BKlhtF4C4"
      }
    },
    {
      "cell_type": "markdown",
      "source": [
        "4. **Uso y permisos de la fuente**\n",
        "\n",
        "FAOSTAT es una base de datos de acceso abierto con licencia Open Data License (CC BY-NC-SA 3.0 IGO), lo que autoriza su uso académico, analítico y educativo sin restricciones comerciales, siempre que se cite la fuente:\n",
        "\n",
        "FAO, FAOSTAT Database. Food and Agriculture Organization of the United Nations. https://www.fao.org/faostat/\n",
        "\n",
        "Por tanto, su utilización en el presente proyecto cumple con los estándares éticos y de transparencia en el manejo de datos abiertos."
      ],
      "metadata": {
        "id": "jEnhcuPoF_GR"
      }
    },
    {
      "cell_type": "markdown",
      "source": [
        "**5. Conclusión**\n",
        "\n",
        "La elección de FAOSTAT como fuente principal responde a criterios de credibilidad, cobertura, actualidad y potencial analítico.\n",
        "Este conjunto de datos, transformado a frecuencia mensual y complementado con indicadores derivados como el rendimiento agrícola, permite realizar pronósticos de tendencia y evaluar el comportamiento del sector en contextos económicos, ambientales y de política pública, aportando valor estratégico tanto para la investigación académica como para la toma de decisiones."
      ],
      "metadata": {
        "id": "kC-64vJVGHuC"
      }
    },
    {
      "cell_type": "markdown",
      "source": [],
      "metadata": {
        "id": "ZKk803l_GKam"
      }
    },
    {
      "cell_type": "markdown",
      "source": [
        "**6. Propuesta de contenidos del Bookdown**\n",
        "\n",
        "Capítulo 1: Introducción\n",
        "\n",
        "Importancia de la producción agrícola en el crecimiento económico y la seguridad alimentaria.\n",
        "\n",
        "Breve descripción de la base FAOSTAT y tus variables seleccionadas.\n",
        "\n",
        "Capítulo 2: Marco metodológico\n",
        "\n",
        "Modelos de series de tiempo: ARIMA, VAR, y otros\n",
        "\n",
        "Justificación del enfoque mensual e interpolado.\n",
        "\n",
        "Capítulo 3: Exploración de datos\n",
        "\n",
        "Gráficos de tendencia por país y producto.\n",
        "\n",
        "Comparación entre Producción y Rendimiento.\n",
        "\n",
        "Capítulo 4: Pronósticos\n",
        "\n",
        "Modelos ARIMA o Prophet sobre Producción mensual.\n",
        "\n",
        "Escenarios de crecimiento agrícola.\n",
        "\n",
        "Capítulo 5: Conclusiones\n",
        "\n",
        "Interpretación del rendimiento y precios.\n",
        "\n",
        "Implicaciones para política agrícola y sostenibilidad."
      ],
      "metadata": {
        "id": "sWEz61z-FbBx"
      }
    },
    {
      "cell_type": "code",
      "source": [
        "from google.colab import auth\n",
        "auth.authenticate_user()\n"
      ],
      "metadata": {
        "id": "LUablTqDaBrE"
      },
      "execution_count": 1,
      "outputs": []
    },
    {
      "cell_type": "code",
      "source": [
        "### base de datos\n",
        "\n",
        "\n",
        "import pandas as pd\n",
        "import numpy as np\n",
        "\n",
        "# ===========================\n",
        "# 1️⃣ Parámetros base\n",
        "# ===========================\n",
        "np.random.seed(42)\n",
        "paises = [\"Colombia\", \"Mexico\", \"Brazil\", \"Chile\", \"Argentina\", \"Peru\"]\n",
        "productos = [\"Maize\", \"Wheat\", \"Rice\", \"Soybeans\", \"Coffee\", \"Sugarcane\"]\n",
        "anios = np.arange(1990, 2026)  # 🔹 Incluye 2025\n",
        "\n",
        "# ===========================\n",
        "# 2️⃣ Crear combinaciones sintéticas\n",
        "# ===========================\n",
        "data = []\n",
        "for pais in paises:\n",
        "    for producto in productos:\n",
        "        for anio in anios:\n",
        "            produccion = np.random.randint(100_000, 10_000_000)\n",
        "            consumo = produccion * np.random.uniform(0.7, 0.95)\n",
        "            exportaciones = produccion * np.random.uniform(0.05, 0.3)\n",
        "            precio = np.random.uniform(100, 1500)\n",
        "            data.append([\n",
        "                pais, producto, anio, \"tonnes\",\n",
        "                produccion, consumo, exportaciones, precio\n",
        "            ])\n",
        "\n",
        "# ===========================\n",
        "# 3️⃣ Construir DataFrame\n",
        "# ===========================\n",
        "df = pd.DataFrame(data, columns=[\n",
        "    \"Pais\", \"Producto\", \"Año\", \"Unidad\",\n",
        "    \"Produccion\", \"Consumo\", \"Exportaciones\", \"Precio_Promedio_USD\"\n",
        "])\n",
        "\n",
        "# ===========================\n",
        "# 4️⃣ Formatear números legibles\n",
        "# ===========================\n",
        "cols_numericas = [\"Produccion\", \"Consumo\", \"Exportaciones\", \"Precio_Promedio_USD\"]\n",
        "for col in cols_numericas:\n",
        "    df[col] = df[col].round(2)\n",
        "    df[col] = df[col].apply(lambda x: \"{:,.2f}\".format(x))\n",
        "\n",
        "# ===========================\n",
        "# 5️⃣ Guardar el archivo\n",
        "# ===========================\n",
        "nombre_archivo = \"FAOSTAT_Produccion_Agricola_Sintetica_1990_2025.csv\"\n",
        "df.to_csv(nombre_archivo, index=False, encoding=\"utf-8-sig\")\n",
        "\n",
        "# ===========================\n",
        "# 6️⃣ Verificación\n",
        "# ===========================\n",
        "print(f\"✅ Registros generados: {len(df):,}\")\n",
        "print(f\"📅 Años desde {df['Año'].min()} hasta {df['Año'].max()}\")\n",
        "print(df.head(10))\n",
        "print(f\"\\n💾 Archivo guardado correctamente: {nombre_archivo}\")\n"
      ],
      "metadata": {
        "colab": {
          "base_uri": "https://localhost:8080/"
        },
        "id": "4FRUIDePDJ5D",
        "outputId": "5d70af4b-fcb6-4b98-9c4b-47a07f677483"
      },
      "execution_count": 2,
      "outputs": [
        {
          "output_type": "stream",
          "name": "stdout",
          "text": [
            "✅ Registros generados: 1,296\n",
            "📅 Años desde 1990 hasta 2025\n",
            "       Pais Producto   Año  Unidad    Produccion       Consumo Exportaciones  \\\n",
            "0  Colombia    Maize  1990  tonnes  6,523,388.00  4,865,525.68  1,597,726.13   \n",
            "1  Colombia    Maize  1991  tonnes  2,334,489.00  1,725,184.17    150,623.34   \n",
            "2  Colombia    Maize  1992  tonnes  9,728,519.00  8,532,087.68    536,490.11   \n",
            "3  Colombia    Maize  1993  tonnes  1,866,891.00  1,744,867.60     93,708.02   \n",
            "4  Colombia    Maize  1994  tonnes  1,362,752.00  1,057,578.08    246,915.82   \n",
            "5  Colombia    Maize  1995  tonnes  9,405,648.00  7,817,915.03  1,410,520.29   \n",
            "6  Colombia    Maize  1996  tonnes  4,821,339.00  3,816,525.96    790,783.95   \n",
            "7  Colombia    Maize  1997  tonnes  2,054,354.00  1,634,475.88    607,693.78   \n",
            "8  Colombia    Maize  1998  tonnes  2,528,388.00  2,153,898.88    234,207.19   \n",
            "9  Colombia    Maize  1999  tonnes  3,516,664.00  3,310,615.65    886,548.66   \n",
            "\n",
            "  Precio_Promedio_USD  \n",
            "0              935.59  \n",
            "1            1,312.65  \n",
            "2            1,457.87  \n",
            "3            1,489.10  \n",
            "4              704.72  \n",
            "5              165.33  \n",
            "6            1,199.25  \n",
            "7              753.47  \n",
            "8              191.07  \n",
            "9              526.46  \n",
            "\n",
            "💾 Archivo guardado correctamente: FAOSTAT_Produccion_Agricola_Sintetica_1990_2025.csv\n"
          ]
        }
      ]
    },
    {
      "cell_type": "markdown",
      "source": [
        "from google.colab import files\n",
        "files.download(\"FAOSTAT_Produccion_Agricola_Extendida.csv\")\n"
      ],
      "metadata": {
        "id": "vlbQbuKJASqH"
      }
    },
    {
      "cell_type": "code",
      "source": [
        "import pandas as pd\n",
        "import numpy as np\n",
        "\n",
        "# ===========================\n",
        "# 1️⃣ Crear la base sintética\n",
        "# ===========================\n",
        "np.random.seed(42)\n",
        "paises = [\"Colombia\", \"Mexico\", \"Brazil\", \"Chile\", \"Argentina\", \"Peru\"]\n",
        "productos = [\"Maize\", \"Wheat\", \"Rice\", \"Soybeans\", \"Coffee\", \"Sugarcane\"]\n",
        "anios = np.arange(1990, 2025)\n",
        "\n",
        "data = []\n",
        "for pais in paises:\n",
        "    for producto in productos:\n",
        "        for anio in anios:\n",
        "            produccion = np.random.randint(100_000, 10_000_000)\n",
        "            consumo = produccion * np.random.uniform(0.7, 0.95)\n",
        "            exportaciones = produccion * np.random.uniform(0.05, 0.3)\n",
        "            precio = np.random.uniform(100, 1500)\n",
        "            data.append([pais, producto, anio, \"tonnes\",\n",
        "                         produccion, consumo, exportaciones, precio])\n",
        "\n",
        "df = pd.DataFrame(data, columns=[\n",
        "    \"Pais\", \"Producto\", \"Año\", \"Unidad\",\n",
        "    \"Produccion\", \"Consumo\", \"Exportaciones\", \"Precio_Promedio_USD\"\n",
        "])\n",
        "\n",
        "# ==============================\n",
        "# 2️⃣ Normalizar formato numérico\n",
        "# ==============================\n",
        "cols_numericas = [\"Produccion\", \"Consumo\", \"Exportaciones\", \"Precio_Promedio_USD\"]\n",
        "for col in cols_numericas:\n",
        "    df[col] = df[col].round(2)\n",
        "    df[col] = df[col].apply(lambda x: \"{:,.2f}\".format(x))\n",
        "\n",
        "# ==============================\n",
        "# 3️⃣ Guardar y recargar el archivo\n",
        "# ==============================\n",
        "nombre_archivo = \"FAOSTAT_Produccion_Agricola_Sintetica_Normalizada.csv\"\n",
        "df.to_csv(nombre_archivo, index=False, encoding=\"utf-8-sig\")\n",
        "print(f\"💾 Archivo guardado correctamente: {nombre_archivo}\")\n",
        "\n",
        "# ==============================\n",
        "# 4️⃣ Cargar la base y preparar df_monthly\n",
        "# ==============================\n",
        "df_monthly = pd.read_csv(nombre_archivo, encoding=\"utf-8-sig\")\n",
        "df_monthly[\"Año\"] = pd.to_datetime(df_monthly[\"Año\"], format=\"%Y\", errors=\"coerce\")\n",
        "\n",
        "print(f\"\\n✅ Base cargada: {len(df_monthly):,} registros\")\n",
        "print(df_monthly.head(10))\n",
        "\n",
        "from google.colab import files\n",
        "files.download(\"FAOSTAT_Produccion_Agricola_Sintetica_Normalizada.csv\")\n",
        "\n"
      ],
      "metadata": {
        "colab": {
          "base_uri": "https://localhost:8080/",
          "height": 491
        },
        "id": "4R5n9f10B23c",
        "outputId": "00e90a03-70ad-40ae-d727-df8b5cc70ea3"
      },
      "execution_count": 3,
      "outputs": [
        {
          "output_type": "stream",
          "name": "stdout",
          "text": [
            "💾 Archivo guardado correctamente: FAOSTAT_Produccion_Agricola_Sintetica_Normalizada.csv\n",
            "\n",
            "✅ Base cargada: 1,260 registros\n",
            "       Pais Producto        Año  Unidad    Produccion       Consumo  \\\n",
            "0  Colombia    Maize 1990-01-01  tonnes  6,523,388.00  4,865,525.68   \n",
            "1  Colombia    Maize 1991-01-01  tonnes  2,334,489.00  1,725,184.17   \n",
            "2  Colombia    Maize 1992-01-01  tonnes  9,728,519.00  8,532,087.68   \n",
            "3  Colombia    Maize 1993-01-01  tonnes  1,866,891.00  1,744,867.60   \n",
            "4  Colombia    Maize 1994-01-01  tonnes  1,362,752.00  1,057,578.08   \n",
            "5  Colombia    Maize 1995-01-01  tonnes  9,405,648.00  7,817,915.03   \n",
            "6  Colombia    Maize 1996-01-01  tonnes  4,821,339.00  3,816,525.96   \n",
            "7  Colombia    Maize 1997-01-01  tonnes  2,054,354.00  1,634,475.88   \n",
            "8  Colombia    Maize 1998-01-01  tonnes  2,528,388.00  2,153,898.88   \n",
            "9  Colombia    Maize 1999-01-01  tonnes  3,516,664.00  3,310,615.65   \n",
            "\n",
            "  Exportaciones Precio_Promedio_USD  \n",
            "0  1,597,726.13              935.59  \n",
            "1    150,623.34            1,312.65  \n",
            "2    536,490.11            1,457.87  \n",
            "3     93,708.02            1,489.10  \n",
            "4    246,915.82              704.72  \n",
            "5  1,410,520.29              165.33  \n",
            "6    790,783.95            1,199.25  \n",
            "7    607,693.78              753.47  \n",
            "8    234,207.19              191.07  \n",
            "9    886,548.66              526.46  \n"
          ]
        },
        {
          "output_type": "display_data",
          "data": {
            "text/plain": [
              "<IPython.core.display.Javascript object>"
            ],
            "application/javascript": [
              "\n",
              "    async function download(id, filename, size) {\n",
              "      if (!google.colab.kernel.accessAllowed) {\n",
              "        return;\n",
              "      }\n",
              "      const div = document.createElement('div');\n",
              "      const label = document.createElement('label');\n",
              "      label.textContent = `Downloading \"${filename}\": `;\n",
              "      div.appendChild(label);\n",
              "      const progress = document.createElement('progress');\n",
              "      progress.max = size;\n",
              "      div.appendChild(progress);\n",
              "      document.body.appendChild(div);\n",
              "\n",
              "      const buffers = [];\n",
              "      let downloaded = 0;\n",
              "\n",
              "      const channel = await google.colab.kernel.comms.open(id);\n",
              "      // Send a message to notify the kernel that we're ready.\n",
              "      channel.send({})\n",
              "\n",
              "      for await (const message of channel.messages) {\n",
              "        // Send a message to notify the kernel that we're ready.\n",
              "        channel.send({})\n",
              "        if (message.buffers) {\n",
              "          for (const buffer of message.buffers) {\n",
              "            buffers.push(buffer);\n",
              "            downloaded += buffer.byteLength;\n",
              "            progress.value = downloaded;\n",
              "          }\n",
              "        }\n",
              "      }\n",
              "      const blob = new Blob(buffers, {type: 'application/binary'});\n",
              "      const a = document.createElement('a');\n",
              "      a.href = window.URL.createObjectURL(blob);\n",
              "      a.download = filename;\n",
              "      div.appendChild(a);\n",
              "      a.click();\n",
              "      div.remove();\n",
              "    }\n",
              "  "
            ]
          },
          "metadata": {}
        },
        {
          "output_type": "display_data",
          "data": {
            "text/plain": [
              "<IPython.core.display.Javascript object>"
            ],
            "application/javascript": [
              "download(\"download_0319f6de-ce9d-4264-a0b1-5b8e0fb8303e\", \"FAOSTAT_Produccion_Agricola_Sintetica_Normalizada.csv\", 98641)"
            ]
          },
          "metadata": {}
        }
      ]
    },
    {
      "cell_type": "code",
      "source": [
        "import pandas as pd\n",
        "\n",
        "# Cargar base extendida hasta 2025\n",
        "df = pd.read_csv(\"FAOSTAT_Produccion_Agricola_Sintetica_1990_2025.csv\", encoding='utf-8-sig')\n",
        "\n",
        "# Convertir año a numérico\n",
        "df[\"Año\"] = pd.to_numeric(df[\"Año\"], errors=\"coerce\")\n",
        "df[\"Década\"] = (df[\"Año\"] // 10) * 10\n",
        "\n",
        "# Contar registros por año\n",
        "registros_anio = (\n",
        "    df.groupby([\"Década\", \"Año\"])\n",
        "      .size()\n",
        "      .reset_index(name=\"Registros\")\n",
        "      .sort_values(\"Año\")\n",
        ")\n",
        "\n",
        "print(\"=== Registros por año ===\")\n",
        "print(registros_anio.head(20))  # muestra los primeros 20 años\n",
        "\n",
        "# Resumen agregado por década\n",
        "resumen_decadas = (\n",
        "    registros_anio.groupby(\"Década\")[\"Registros\"]\n",
        "    .sum()\n",
        "    .reset_index(name=\"Total_registros\")\n",
        ")\n",
        "print(\"\\n=== Total de registros por década ===\")\n",
        "print(resumen_decadas)\n"
      ],
      "metadata": {
        "colab": {
          "base_uri": "https://localhost:8080/"
        },
        "id": "XH4nSMkTCXwN",
        "outputId": "1dddff57-b386-4e05-8bc4-5d187472db45"
      },
      "execution_count": 4,
      "outputs": [
        {
          "output_type": "stream",
          "name": "stdout",
          "text": [
            "=== Registros por año ===\n",
            "    Década   Año  Registros\n",
            "0     1990  1990         36\n",
            "1     1990  1991         36\n",
            "2     1990  1992         36\n",
            "3     1990  1993         36\n",
            "4     1990  1994         36\n",
            "5     1990  1995         36\n",
            "6     1990  1996         36\n",
            "7     1990  1997         36\n",
            "8     1990  1998         36\n",
            "9     1990  1999         36\n",
            "10    2000  2000         36\n",
            "11    2000  2001         36\n",
            "12    2000  2002         36\n",
            "13    2000  2003         36\n",
            "14    2000  2004         36\n",
            "15    2000  2005         36\n",
            "16    2000  2006         36\n",
            "17    2000  2007         36\n",
            "18    2000  2008         36\n",
            "19    2000  2009         36\n",
            "\n",
            "=== Total de registros por década ===\n",
            "   Década  Total_registros\n",
            "0    1990              360\n",
            "1    2000              360\n",
            "2    2010              360\n",
            "3    2020              216\n"
          ]
        }
      ]
    }
  ]
}
